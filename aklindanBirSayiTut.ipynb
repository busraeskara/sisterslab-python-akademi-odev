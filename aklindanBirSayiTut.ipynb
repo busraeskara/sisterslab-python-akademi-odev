{
 "cells": [
  {
   "cell_type": "code",
   "execution_count": null,
   "metadata": {},
   "outputs": [],
   "source": [
    "from random import randint\n",
    " \n",
    "rand=randint(1, 100)\n",
    "sayac=0\n",
    " \n",
    "while True:\n",
    "    sayac+=1\n",
    "    sayi=int(input(\"1 ile 100 arasında değer girin (0 Çıkış):\"))\n",
    "    if(sayi==0):\n",
    "        print(\"Oyunu İptal Ettiniz\")\n",
    "        break\n",
    "    elif sayi < rand:\n",
    "        print(\"Daha Yüksek Bir Sayı Girin.\")\n",
    "        continue\n",
    "    elif sayi > rand:\n",
    "        print(\"Daha Düşük Bir Sayı Girin.\")\n",
    "        continue\n",
    "    else:\n",
    "        print(\"Rastele seçilen sayı {0}!\".format(rand))\n",
    "        print(\"Tahmin sayınız {0}\".format(sayac))"
   ]
  },
  {
   "cell_type": "code",
   "execution_count": null,
   "metadata": {},
   "outputs": [],
   "source": []
  }
 ],
 "metadata": {
  "kernelspec": {
   "display_name": "Python 3.10.7 64-bit",
   "language": "python",
   "name": "python3"
  },
  "language_info": {
   "name": "python",
   "version": "3.10.7"
  },
  "orig_nbformat": 4,
  "vscode": {
   "interpreter": {
    "hash": "a9cff5a362bc38ef45d817ae74b1af54d6a076e3d773891282bce078b815ba34"
   }
  }
 },
 "nbformat": 4,
 "nbformat_minor": 2
}
